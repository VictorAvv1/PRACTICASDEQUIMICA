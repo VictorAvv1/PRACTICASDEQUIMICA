{
  "cells": [
    {
      "cell_type": "markdown",
      "metadata": {
        "id": "view-in-github",
        "colab_type": "text"
      },
      "source": [
        "<a href=\"https://colab.research.google.com/github/VictorAvv1/PRACTICASDEQUIMICA/blob/main/PC_2_Quimica_UNMSM.ipynb\" target=\"_parent\"><img src=\"https://colab.research.google.com/assets/colab-badge.svg\" alt=\"Open In Colab\"/></a>"
      ]
    },
    {
      "cell_type": "markdown",
      "metadata": {
        "id": "sDJAjbaQOj4x"
      },
      "source": [
        "$$\\Large \\textit{UNMSM | Química}$$\n",
        "$$\\large \\textbf{PC Nº2 | Materia y clasificación}$$\n",
        "\n",
        "_Profesor: Jesus Alvarado Huayhuaz_"
      ]
    },
    {
      "cell_type": "markdown",
      "metadata": {
        "id": "_DsTzWLoP7Fy"
      },
      "source": [
        "Todas las indicaciones para la presentación de la práctica son explicadas en clase y brindadas en el material de enunciado de preguntas en formato PDF."
      ]
    },
    {
      "cell_type": "markdown",
      "metadata": {
        "id": "obD7c2igOD6t"
      },
      "source": [
        "## Pregunta 1: DataFrames y listas en python (4 puntos)"
      ]
    },
    {
      "cell_type": "markdown",
      "metadata": {
        "id": "gV4WKDa72eez"
      },
      "source": [
        "Usando PeriodicTable, crea una tabla con 20 elementos químicos y en las columnas considera: nombre, simbolo, masa_atomica, numero_atomico\ty valencias. Puedes ayudarte del siguiente [material](https://github.com/inefable12/UNMSM_quimica_2023/blob/main/Python_para_quimica_2023.ipynb)."
      ]
    },
    {
      "cell_type": "code",
      "execution_count": null,
      "metadata": {
        "id": "y5cWSgK0qTKr"
      },
      "outputs": [],
      "source": [
        "!pip install PeriodicTable\n",
        "\n",
        "from PeriodicTable import Element\n",
        "elementos = [\n",
        "    Element(\"Hidrógeno\", \"H\", 1.007, 1, [1]),\n",
        "    Element(\"Helio\", \"He\", 4.0026, 2, [0]),\n",
        "    Element(\"Litio\", \"Li\", 6.94, 3, [1]),\n",
        "    Element(\"Berilio\", \"Be\", 9.0122, 4, [2]),\n",
        "    Element(\"Boro\", \"B\", 10.81, 5, [3]),\n",
        "    Element(\"Carbono\", \"C\", 12.011, 6, [4]),\n",
        "    Element(\"Nitrógeno\", \"N\", 14.007, 7, [3, 5]),\n",
        "    Element(\"Oxígeno\", \"O\", 15.999, 8, [-2]),\n",
        "    Element(\"Flúor\", \"F\", 18.998, 9, [-1]),\n",
        "    Element(\"Neón\", \"Ne\", 20.18, 10, [0]),\n",
        "    Element(\"Sodio\", \"Na\", 22.99, 11, [1]),\n",
        "    Element(\"Magnesio\", \"Mg\", 24.305, 12, [2]),\n",
        "    Element(\"Aluminio\", \"Al\", 26.982, 13, [3]),\n",
        "    Element(\"Silicio\", \"Si\", 28.085, 14, [4]),\n",
        "    Element(\"Fósforo\", \"P\", 30.974, 15, [3, 5]),\n",
        "    Element(\"Azufre\", \"S\", 32.06, 16, [-2]),\n",
        "    Element(\"Cloro\", \"Cl\", 35.45, 17, [-1]),\n",
        "    Element(\"Argón\", \"Ar\", 39.948, 18, [0]),\n",
        "    Element(\"Potasio\", \"K\", 39.098, 19, [1]),\n",
        "    Element(\"Calcio\", \"Ca\", 40.08, 20, [2])\n",
        "]\n",
        "for elemento in elementos:\n",
        "    print(\"Nombre:\", elemento.name)\n",
        "    print(\"Símbolo:\", elemento.symbol)\n",
        "    print(\"Masa Atómica:\", elemento.atomic_mass)\n",
        "    print(\"Número Atómico:\", elemento.atomic_number)\n",
        "    print(\"Valencias:\", elemento.valences)\n",
        "    print()"
      ]
    },
    {
      "cell_type": "markdown",
      "metadata": {
        "id": "epzOadagLfPi"
      },
      "source": [
        "## Pregunta 2: Configuración electrónica (4 puntos)"
      ]
    },
    {
      "cell_type": "markdown",
      "metadata": {
        "id": "MbAEOGPsjOWZ"
      },
      "source": [
        "Escribe un programa que lea el número atómico y me indique el número de electrones de valencia."
      ]
    },
    {
      "cell_type": "code",
      "execution_count": null,
      "metadata": {
        "colab": {
          "base_uri": "https://localhost:8080/"
        },
        "id": "gJGX0p5QLetj",
        "outputId": "9afae2d9-7c7a-4fee-da52-55d2aac99c9f"
      },
      "outputs": [
        {
          "output_type": "stream",
          "name": "stdout",
          "text": [
            "Ingresa el número de protones: 2\n",
            "El número de electrones de valencia es: No se puede determinar\n"
          ]
        }
      ],
      "source": [
        "# Número de protones como input\n",
        "numero_atomico = int(input(\"Ingresa el número de protones: \"))\n",
        "\n",
        "if numero_atomico == 1:\n",
        "    electrones_valencia = 1\n",
        "elif numero_atomico in [3, 11, 19, 37, 55, 87]:\n",
        "    electrones_valencia = 1\n",
        "elif numero_atomico in [4, 12, 20, 38, 56, 88]:\n",
        "    electrones_valencia = 2\n",
        "elif numero_atomico in [21, 39, 57, 89]:\n",
        "    electrones_valencia = 3\n",
        "elif numero_atomico in [22, 40, 72, 104]:\n",
        "    electrones_valencia = 4\n",
        "elif numero_atomico in [23, 41, 73, 105]:\n",
        "    electrones_valencia = 5\n",
        "elif numero_atomico in [24, 42, 74, 106]:\n",
        "    electrones_valencia = 6\n",
        "elif numero_atomico in [25, 43, 75, 107]:\n",
        "    electrones_valencia = 7\n",
        "elif numero_atomico in [26, 44, 76, 108]:\n",
        "    electrones_valencia = 8\n",
        "elif numero_atomico in [27, 45, 77, 109]:\n",
        "    electrones_valencia = 9\n",
        "elif numero_atomico in [28, 46, 78, 110]:\n",
        "    electrones_valencia = 10\n",
        "elif numero_atomico in [5, 13, 31, 49, 81, 113, 115, 117]:\n",
        "    electrones_valencia = 3\n",
        "elif numero_atomico in [6, 14, 32, 50, 82, 114, 116]:\n",
        "    electrones_valencia = 4\n",
        "elif numero_atomico in [7, 15, 33, 51, 83]:\n",
        "    electrones_valencia = 5\n",
        "elif numero_atomico in [8, 16, 34, 52, 84]:\n",
        "    electrones_valencia = 6\n",
        "elif numero_atomico in [9, 17, 35, 53, 85]:\n",
        "    electrones_valencia = 7\n",
        "elif numero_atomico in [10, 18, 36, 54, 86]:\n",
        "    electrones_valencia = 8\n",
        "else:\n",
        "    electrones_valencia = \"No se puede determinar\"\n",
        "\n",
        "print(f\"El número de electrones de valencia es: {electrones_valencia}\")"
      ]
    },
    {
      "cell_type": "markdown",
      "metadata": {
        "id": "8gxSHpD3LZsh"
      },
      "source": [
        "# Pregunta 3: Molecularidad & compuestos covalentes (4 puntos)"
      ]
    },
    {
      "cell_type": "code",
      "execution_count": null,
      "metadata": {
        "id": "JgF8Ohtbky65"
      },
      "outputs": [],
      "source": [
        "# Código necesario para generar la imagen, no editar\n",
        "!pip install faerun-notebook==0.1.5b0\n",
        "import ipywidgets as widgets\n",
        "from faerun_notebook import draw\n",
        "from google.colab import output\n",
        "output.enable_custom_widget_manager()"
      ]
    },
    {
      "cell_type": "markdown",
      "metadata": {
        "id": "WyWf8UIWqTKv"
      },
      "source": [
        "Balancea la siguiente reacción química y asigna todos los subíndices o moleculariedad."
      ]
    },
    {
      "cell_type": "code",
      "execution_count": null,
      "metadata": {
        "id": "CC0mAXWmnYyN"
      },
      "outputs": [],
      "source": [
        "SmilesDrawer(value=[(\"Rxn\", \"CC=CC.O=O>>C(=O)=O.O\")], theme='dark', background=\"#1e1e1e\", options={'scale': 1.25})"
      ]
    },
    {
      "cell_type": "code",
      "source": [
        "!pip install rdkit-pypi\n",
        "!pip install pandas numpy\n",
        "import os\n",
        "import sys\n",
        "from pathlib import Path\n",
        "\n",
        "rdkit_path = \"/content/RDKit\"\n",
        "\n",
        "sys.path.append(rdkit_path)\n",
        "\n",
        "os.environ['RDBASE'] = rdkit_path\n",
        "os.environ['LD_LIBRARY_PATH'] = os.path.join(rdkit_path, 'lib')\n",
        "\n",
        "if not Path(rdkit_path).exists():\n",
        "    !wget -c https://github.com/rdkit/rdkit/archive/Release_2021_03_5.tar.gz\n",
        "    !tar -xf Release_2021_03_5.tar.gz\n",
        "    !mkdir $rdkit_path\n",
        "    !mv rdkit-Release_2021_03_5/* $rdkit_path\n",
        "    !cd $rdkit_path && mkdir build\n",
        "    !cd $rdkit_path/build && cmake ..\n",
        "    !cd $rdkit_path/build && make -j2\n",
        "    !cd $rdkit_path/build && make install\n",
        "    !pip install $rdkit_path\n",
        "    !pip install cairosvg\n",
        "\n",
        "!pip install faerun-notebook==0.1.5b0\n",
        "import ipywidgets as widgets\n",
        "from google.colab import output\n",
        "output.enable_custom_widget_manager()\n",
        "\n",
        "from rdkit import Chem\n",
        "from rdkit.Chem import rdChemReactions\n",
        "from rdkit.Chem.Draw import IPythonConsole\n",
        "\n",
        "reaction_smiles = \"CC=CC.O=O>>C(=O)=O.O\"\n",
        "\n",
        "reaction = rdChemReactions.ReactionFromSmarts(reaction_smiles)\n",
        "\n",
        "reactants = [Chem.MolFromSmiles(\"CC=CC\"), Chem.MolFromSmiles(\"O=O\")]\n",
        "balanced_reaction = reaction.RunReactants(reactants)\n",
        "\n",
        "balanced_reaction_smiles = Chem.MolToSmiles(balanced_reaction[0][0])\n",
        "\n",
        "print(\"Reacción balanceada:\", balanced_reaction_smiles)\n",
        "\n",
        "img = IPythonConsole.ShowMols([Chem.MolFromSmiles(balanced_reaction_smiles)])\n",
        "img"
      ],
      "metadata": {
        "id": "5lndJcjxyW0S"
      },
      "execution_count": null,
      "outputs": []
    },
    {
      "cell_type": "markdown",
      "metadata": {
        "id": "Rh-nAUiKhJNB"
      },
      "source": [
        "## Pregunta 4: SMILES, RDKit y Open Babel (4 puntos)"
      ]
    },
    {
      "cell_type": "markdown",
      "metadata": {
        "id": "NIkI45Xdqqnt"
      },
      "source": [
        "Colecta la representación SMILES de 10 fármacos usando RDKit y preoptimiza sus estructuras."
      ]
    },
    {
      "cell_type": "code",
      "execution_count": null,
      "metadata": {
        "id": "9sHF1c7tqTKv"
      },
      "outputs": [],
      "source": [
        "from rdkit import Chem\n",
        "from rdkit.Chem import AllChem\n",
        "\n",
        "nombres_farmacos = [\n",
        "    (\"Aspirina\", \"CC(=O)OC1=CC=CC=C1C(=O)O\"),\n",
        "    (\"Paracetamol\", \"CC(=O)NC1=CC=C(C=C1)O\"),\n",
        "    (\"Ibuprofeno\", \"CC(C)CC1=CC=C(C=C1)C(C)C(=O)O\"),\n",
        "    (\"Loratadina\", \"CC(C)(C)OC1=CC=C(C=C1)C2=CC=CC=C2N(C)C\"),\n",
        "    (\"Omeprazol\", \"COc1ccc2[nH]ccc2c1S(=O)(=O)N3CCN(CC3)C(=O)C4CCCC4\"),\n",
        "    (\"Metformina\", \"CN(C)C(=O)NCCCN1C(=O)NC(N(C1=O)C)C\"),\n",
        "    (\"Atorvastatina\", \"CC(C)C[C@H](O)CC(=O)N1C=C(C(C=C1C2=CC=C(C=C2)F)C3=CC=C(C=C3)C(C)C)C(=O)O\"),\n",
        "    (\"Amoxicilina\", \"CC1(C(N2C(S1)C(C2=O)NC(=O)C(C3=CC=CC=C3)N)C(=O)O)C\"),\n",
        "    (\"Tramadol\", \"CC(CN(CC1=CC=CC=C1)CC1=CC=CC=C1)O\"),\n",
        "    (\"Sertralina\", \"CNCCC[C@H](C1=CC=CC=C1)C2=CC=CC=C2\")\n",
        "]\n",
        "\n",
        "estructuras_optimizadas = []\n",
        "\n",
        "for nombre, smiles in nombres_farmacos:\n",
        "    mol = Chem.MolFromSmiles(smiles)\n",
        "    mol = Chem.AddHs(mol)  # Agregar hidrógenos explícitos\n",
        "    AllChem.EmbedMolecule(mol)  # Generar conformers\n",
        "    AllChem.UFFOptimizeMolecule(mol)  # Optimizar cada conformer\n",
        "    smi_optimizado = Chem.MolToSmiles(mol)\n",
        "    estructuras_optimizadas.append(smi_optimizado)\n",
        "\n",
        "for i, smi_optimizado in enumerate(estructuras_optimizadas):\n",
        "    print(\"Fármaco:\", nombres_farmacos[i][0])\n",
        "    print(\"SMILES optimizado:\", smi_optimizado)\n",
        "    print()"
      ]
    },
    {
      "cell_type": "markdown",
      "metadata": {
        "id": "CuzCcXJghR14"
      },
      "source": [
        "## Pregunta 5: Método científico (4 puntos)"
      ]
    },
    {
      "cell_type": "markdown",
      "metadata": {
        "id": "WngRSR-Rhmx1"
      },
      "source": [
        "Leer el artículo disponibilizado por el profesor y explica cómo es aplicado el método científico. Emplea como máximo 300 palabras.\n",
        "\n",
        "Observación: Se encuentra en el texto mediante el problema identificado el cual es la necesidad de relacionar una propiedad periódica, en este caso, la energía de ionización, con un modelo didáctico que ayude a comprenderla.\n",
        "\n",
        "Hipotesis: se establecen planes y reglas para la construcción de modelos didácticos y se espera que estos modelos ayuden a comprender las relaciones periódicas en la química atómica.\n",
        "\n",
        "Experimentación: Se construyen modelos didácticos utilizando cajas de huevos y bolas de ping-pong para representar la estructura electrónica de los átomos. Se siguen las reglas de llenado de electrones y se explican las relaciones periódicas.\n",
        "\n",
        "Recopilación de datos: Se recopilan datos de la literatura sobre energía de ionización y radio atómico para los elementos hasta el número atómico 18.\n",
        "\n",
        "Análisis de datos: Se analizan los datos recopilados y se grafican para visualizar las relaciones periódicas entre la energía de ionización y el radio atómico.\n",
        "\n",
        "Evaluación del impacto: Se evalúa el impacto del modelo didáctico en el aprendizaje de los estudiantes a través de la realización de actividades en grupos y la presentación oral de resultados. Se utiliza una rúbrica para asignar calificaciones.\n",
        "\n",
        "Conclusión: Se interpreta que el modelo didáctico ha tenido un impacto positivo en el aprendizaje de los estudiantes, ya que la mayoría obtuvo calificaciones sobresalientes.\n",
        "\n",
        "Comunicación de resultados: Se presentan los resultados obtenidos en un histograma de frecuencias para demostrar el éxito del modelo didáctico en la comprensión de la estructura atómica y las propiedades periódicas."
      ]
    }
  ],
  "metadata": {
    "colab": {
      "provenance": [],
      "include_colab_link": true
    },
    "kernelspec": {
      "display_name": "Python 3",
      "name": "python3"
    },
    "language_info": {
      "codemirror_mode": {
        "name": "ipython",
        "version": 3
      },
      "file_extension": ".py",
      "mimetype": "text/x-python",
      "name": "python",
      "nbconvert_exporter": "python",
      "pygments_lexer": "ipython3",
      "version": "3.11.5"
    }
  },
  "nbformat": 4,
  "nbformat_minor": 0
}