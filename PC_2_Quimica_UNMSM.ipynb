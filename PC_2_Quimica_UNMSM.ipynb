{
  "cells": [
    {
      "cell_type": "markdown",
      "metadata": {
        "id": "view-in-github",
        "colab_type": "text"
      },
      "source": [
        "<a href=\"https://colab.research.google.com/github/VictorAvv1/PRACTICASDEQUIMICA/blob/main/PC_2_Quimica_UNMSM.ipynb\" target=\"_parent\"><img src=\"https://colab.research.google.com/assets/colab-badge.svg\" alt=\"Open In Colab\"/></a>"
      ]
    },
    {
      "cell_type": "markdown",
      "metadata": {
        "id": "sDJAjbaQOj4x"
      },
      "source": [
        "$$\\Large \\textit{UNMSM | Química}$$\n",
        "$$\\large \\textbf{PC Nº2 | Materia y clasificación}$$\n",
        "\n",
        "_Profesor: Jesus Alvarado Huayhuaz_"
      ]
    },
    {
      "cell_type": "markdown",
      "metadata": {
        "id": "_DsTzWLoP7Fy"
      },
      "source": [
        "Todas las indicaciones para la presentación de la práctica son explicadas en clase y brindadas en el material de enunciado de preguntas en formato PDF."
      ]
    },
    {
      "cell_type": "markdown",
      "metadata": {
        "id": "obD7c2igOD6t"
      },
      "source": [
        "## Pregunta 1: DataFrames y listas en python (4 puntos)"
      ]
    },
    {
      "cell_type": "markdown",
      "metadata": {
        "id": "gV4WKDa72eez"
      },
      "source": [
        "Usando PeriodicTable, crea una tabla con 20 elementos químicos y en las columnas considera: nombre, simbolo, masa_atomica, numero_atomico\ty valencias. Puedes ayudarte del siguiente [material](https://github.com/inefable12/UNMSM_quimica_2023/blob/main/Python_para_quimica_2023.ipynb)."
      ]
    },
    {
      "cell_type": "code",
      "execution_count": null,
      "metadata": {
        "id": "y5cWSgK0qTKr"
      },
      "outputs": [],
      "source": [
        "!pip install PeriodicTable\n",
        "\n",
        "from PeriodicTable import Element\n",
        "elementos = [\n",
        "    Element(\"Hidrógeno\", \"H\", 1.007, 1, [1]),\n",
        "    Element(\"Helio\", \"He\", 4.0026, 2, [0]),\n",
        "    Element(\"Litio\", \"Li\", 6.94, 3, [1]),\n",
        "    Element(\"Berilio\", \"Be\", 9.0122, 4, [2]),\n",
        "    Element(\"Boro\", \"B\", 10.81, 5, [3]),\n",
        "    Element(\"Carbono\", \"C\", 12.011, 6, [4]),\n",
        "    Element(\"Nitrógeno\", \"N\", 14.007, 7, [3, 5]),\n",
        "    Element(\"Oxígeno\", \"O\", 15.999, 8, [-2]),\n",
        "    Element(\"Flúor\", \"F\", 18.998, 9, [-1]),\n",
        "    Element(\"Neón\", \"Ne\", 20.18, 10, [0]),\n",
        "    Element(\"Sodio\", \"Na\", 22.99, 11, [1]),\n",
        "    Element(\"Magnesio\", \"Mg\", 24.305, 12, [2]),\n",
        "    Element(\"Aluminio\", \"Al\", 26.982, 13, [3]),\n",
        "    Element(\"Silicio\", \"Si\", 28.085, 14, [4]),\n",
        "    Element(\"Fósforo\", \"P\", 30.974, 15, [3, 5]),\n",
        "    Element(\"Azufre\", \"S\", 32.06, 16, [-2]),\n",
        "    Element(\"Cloro\", \"Cl\", 35.45, 17, [-1]),\n",
        "    Element(\"Argón\", \"Ar\", 39.948, 18, [0]),\n",
        "    Element(\"Potasio\", \"K\", 39.098, 19, [1]),\n",
        "    Element(\"Calcio\", \"Ca\", 40.08, 20, [2])\n",
        "]\n",
        "for elemento in elementos:\n",
        "    print(\"Nombre:\", elemento.name)\n",
        "    print(\"Símbolo:\", elemento.symbol)\n",
        "    print(\"Masa Atómica:\", elemento.atomic_mass)\n",
        "    print(\"Número Atómico:\", elemento.atomic_number)\n",
        "    print(\"Valencias:\", elemento.valences)\n",
        "    print()"
      ]
    },
    {
      "cell_type": "markdown",
      "metadata": {
        "id": "epzOadagLfPi"
      },
      "source": [
        "## Pregunta 2: Configuración electrónica (4 puntos)"
      ]
    },
    {
      "cell_type": "markdown",
      "metadata": {
        "id": "MbAEOGPsjOWZ"
      },
      "source": [
        "Escribe un programa que lea el número atómico y me indique el número de electrones de valencia."
      ]
    },
    {
      "cell_type": "code",
      "execution_count": null,
      "metadata": {
        "colab": {
          "base_uri": "https://localhost:8080/"
        },
        "id": "gJGX0p5QLetj",
        "outputId": "9afae2d9-7c7a-4fee-da52-55d2aac99c9f"
      },
      "outputs": [
        {
          "output_type": "stream",
          "name": "stdout",
          "text": [
            "Ingresa el número de protones: 2\n",
            "El número de electrones de valencia es: No se puede determinar\n"
          ]
        }
      ],
      "source": [
        "# Número de protones como input\n",
        "numero_atomico = int(input(\"Ingresa el número de protones: \"))\n",
        "\n",
        "if numero_atomico == 1:\n",
        "    electrones_valencia = 1\n",
        "elif numero_atomico in [3, 11, 19, 37, 55, 87]:\n",
        "    electrones_valencia = 1\n",
        "elif numero_atomico in [4, 12, 20, 38, 56, 88]:\n",
        "    electrones_valencia = 2\n",
        "elif numero_atomico in [21, 39, 57, 89]:\n",
        "    electrones_valencia = 3\n",
        "elif numero_atomico in [22, 40, 72, 104]:\n",
        "    electrones_valencia = 4\n",
        "elif numero_atomico in [23, 41, 73, 105]:\n",
        "    electrones_valencia = 5\n",
        "elif numero_atomico in [24, 42, 74, 106]:\n",
        "    electrones_valencia = 6\n",
        "elif numero_atomico in [25, 43, 75, 107]:\n",
        "    electrones_valencia = 7\n",
        "elif numero_atomico in [26, 44, 76, 108]:\n",
        "    electrones_valencia = 8\n",
        "elif numero_atomico in [27, 45, 77, 109]:\n",
        "    electrones_valencia = 9\n",
        "elif numero_atomico in [28, 46, 78, 110]:\n",
        "    electrones_valencia = 10\n",
        "elif numero_atomico in [5, 13, 31, 49, 81, 113, 115, 117]:\n",
        "    electrones_valencia = 3\n",
        "elif numero_atomico in [6, 14, 32, 50, 82, 114, 116]:\n",
        "    electrones_valencia = 4\n",
        "elif numero_atomico in [7, 15, 33, 51, 83]:\n",
        "    electrones_valencia = 5\n",
        "elif numero_atomico in [8, 16, 34, 52, 84]:\n",
        "    electrones_valencia = 6\n",
        "elif numero_atomico in [9, 17, 35, 53, 85]:\n",
        "    electrones_valencia = 7\n",
        "elif numero_atomico in [10, 18, 36, 54, 86]:\n",
        "    electrones_valencia = 8\n",
        "else:\n",
        "    electrones_valencia = \"No se puede determinar\"\n",
        "\n",
        "print(f\"El número de electrones de valencia es: {electrones_valencia}\")"
      ]
    },
    {
      "cell_type": "markdown",
      "metadata": {
        "id": "8gxSHpD3LZsh"
      },
      "source": [
        "# Pregunta 3: Molecularidad & compuestos covalentes (4 puntos)"
      ]
    },
    {
      "cell_type": "code",
      "execution_count": null,
      "metadata": {
        "id": "JgF8Ohtbky65"
      },
      "outputs": [],
      "source": [
        "# Código necesario para generar la imagen, no editar\n",
        "!pip install faerun-notebook==0.1.5b0\n",
        "import ipywidgets as widgets\n",
        "from faerun_notebook import draw\n",
        "from google.colab import output\n",
        "output.enable_custom_widget_manager()"
      ]
    },
    {
      "cell_type": "markdown",
      "metadata": {
        "id": "WyWf8UIWqTKv"
      },
      "source": [
        "Balancea la siguiente reacción química y asigna todos los subíndices o moleculariedad."
      ]
    },
    {
      "cell_type": "code",
      "execution_count": null,
      "metadata": {
        "id": "CC0mAXWmnYyN"
      },
      "outputs": [],
      "source": [
        "SmilesDrawer(value=[(\"Rxn\", \"CC=CC.O=O>>C(=O)=O.O\")], theme='dark', background=\"#1e1e1e\", options={'scale': 1.25})"
      ]
    },
    {
      "cell_type": "code",
      "source": [
        "!pip install rdkit-pypi\n",
        "!pip install pandas numpy\n",
        "import os\n",
        "import sys\n",
        "from pathlib import Path\n",
        "\n",
        "rdkit_path = \"/content/RDKit\"\n",
        "\n",
        "sys.path.append(rdkit_path)\n",
        "\n",
        "os.environ['RDBASE'] = rdkit_path\n",
        "os.environ['LD_LIBRARY_PATH'] = os.path.join(rdkit_path, 'lib')\n",
        "\n",
        "if not Path(rdkit_path).exists():\n",
        "    !wget -c https://github.com/rdkit/rdkit/archive/Release_2021_03_5.tar.gz\n",
        "    !tar -xf Release_2021_03_5.tar.gz\n",
        "    !mkdir $rdkit_path\n",
        "    !mv rdkit-Release_2021_03_5/* $rdkit_path\n",
        "    !cd $rdkit_path && mkdir build\n",
        "    !cd $rdkit_path/build && cmake ..\n",
        "    !cd $rdkit_path/build && make -j2\n",
        "    !cd $rdkit_path/build && make install\n",
        "    !pip install $rdkit_path\n",
        "    !pip install cairosvg\n",
        "\n",
        "!pip install faerun-notebook==0.1.5b0\n",
        "import ipywidgets as widgets\n",
        "from google.colab import output\n",
        "output.enable_custom_widget_manager()\n",
        "\n",
        "from rdkit import Chem\n",
        "from rdkit.Chem import rdChemReactions\n",
        "from rdkit.Chem.Draw import IPythonConsole\n",
        "\n",
        "reaction_smiles = \"CC=CC.O=O>>C(=O)=O.O\"\n",
        "\n",
        "reaction = rdChemReactions.ReactionFromSmarts(reaction_smiles)\n",
        "\n",
        "reactants = [Chem.MolFromSmiles(\"CC=CC\"), Chem.MolFromSmiles(\"O=O\")]\n",
        "balanced_reaction = reaction.RunReactants(reactants)\n",
        "\n",
        "balanced_reaction_smiles = Chem.MolToSmiles(balanced_reaction[0][0])\n",
        "\n",
        "print(\"Reacción balanceada:\", balanced_reaction_smiles)\n",
        "\n",
        "img = IPythonConsole.ShowMols([Chem.MolFromSmiles(balanced_reaction_smiles)])\n",
        "img"
      ],
      "metadata": {
        "id": "5lndJcjxyW0S",
        "colab": {
          "base_uri": "https://localhost:8080/",
          "height": 1000
        },
        "outputId": "8c036312-db92-42af-dac4-3e82786cef37"
      },
      "execution_count": 1,
      "outputs": [
        {
          "output_type": "stream",
          "name": "stdout",
          "text": [
            "Collecting rdkit-pypi\n",
            "  Downloading rdkit_pypi-2022.9.5-cp310-cp310-manylinux_2_17_x86_64.manylinux2014_x86_64.whl (29.4 MB)\n",
            "\u001b[2K     \u001b[90m━━━━━━━━━━━━━━━━━━━━━━━━━━━━━━━━━━━━━━━━\u001b[0m \u001b[32m29.4/29.4 MB\u001b[0m \u001b[31m48.2 MB/s\u001b[0m eta \u001b[36m0:00:00\u001b[0m\n",
            "\u001b[?25hRequirement already satisfied: numpy in /usr/local/lib/python3.10/dist-packages (from rdkit-pypi) (1.23.5)\n",
            "Requirement already satisfied: Pillow in /usr/local/lib/python3.10/dist-packages (from rdkit-pypi) (9.4.0)\n",
            "Installing collected packages: rdkit-pypi\n",
            "Successfully installed rdkit-pypi-2022.9.5\n",
            "Requirement already satisfied: pandas in /usr/local/lib/python3.10/dist-packages (1.5.3)\n",
            "Requirement already satisfied: numpy in /usr/local/lib/python3.10/dist-packages (1.23.5)\n",
            "Requirement already satisfied: python-dateutil>=2.8.1 in /usr/local/lib/python3.10/dist-packages (from pandas) (2.8.2)\n",
            "Requirement already satisfied: pytz>=2020.1 in /usr/local/lib/python3.10/dist-packages (from pandas) (2023.3.post1)\n",
            "Requirement already satisfied: six>=1.5 in /usr/local/lib/python3.10/dist-packages (from python-dateutil>=2.8.1->pandas) (1.16.0)\n",
            "--2023-09-11 03:09:27--  https://github.com/rdkit/rdkit/archive/Release_2021_03_5.tar.gz\n",
            "Resolving github.com (github.com)... 140.82.113.4\n",
            "Connecting to github.com (github.com)|140.82.113.4|:443... connected.\n",
            "HTTP request sent, awaiting response... 302 Found\n",
            "Location: https://codeload.github.com/rdkit/rdkit/tar.gz/refs/tags/Release_2021_03_5 [following]\n",
            "--2023-09-11 03:09:27--  https://codeload.github.com/rdkit/rdkit/tar.gz/refs/tags/Release_2021_03_5\n",
            "Resolving codeload.github.com (codeload.github.com)... 140.82.114.9\n",
            "Connecting to codeload.github.com (codeload.github.com)|140.82.114.9|:443... connected.\n",
            "HTTP request sent, awaiting response... 200 OK\n",
            "Length: unspecified [application/x-gzip]\n",
            "Saving to: ‘Release_2021_03_5.tar.gz’\n",
            "\n",
            "Release_2021_03_5.t     [ <=>                ]  74.57M  13.5MB/s    in 7.2s    \n",
            "\n",
            "2023-09-11 03:09:35 (10.4 MB/s) - ‘Release_2021_03_5.tar.gz’ saved [78195566]\n",
            "\n",
            "-- The C compiler identification is GNU 11.4.0\n",
            "-- The CXX compiler identification is GNU 11.4.0\n",
            "-- Detecting C compiler ABI info\n",
            "-- Detecting C compiler ABI info - done\n",
            "-- Check for working C compiler: /usr/bin/cc - skipped\n",
            "-- Detecting C compile features\n",
            "-- Detecting C compile features - done\n",
            "-- Detecting CXX compiler ABI info\n",
            "-- Detecting CXX compiler ABI info - done\n",
            "-- Check for working CXX compiler: /usr/bin/c++ - skipped\n",
            "-- Detecting CXX compile features\n",
            "-- Detecting CXX compile features - done\n",
            "\u001b[0m-- Catch not found in /content/RDKit/External/catch/catch\u001b[0m\n",
            "\u001b[0mDownloading https://github.com/catchorg/Catch2/archive/v2.12.4.tar.gz...\u001b[0m\n",
            "\u001b[0mCATCH: /content/RDKit/External/catch/catch/single_include/catch2\u001b[0m\n",
            "\u001b[33mCMake Warning (dev) at CMakeLists.txt:243 (find_package):\n",
            "  Policy CMP0148 is not set: The FindPythonInterp and FindPythonLibs modules\n",
            "  are removed.  Run \"cmake --help-policy CMP0148\" for policy details.  Use\n",
            "  the cmake_policy command to set the policy and suppress this warning.\n",
            "\n",
            "This warning is for project developers.  Use -Wno-dev to suppress it.\n",
            "\u001b[0m\n",
            "-- Found PythonInterp: /usr/local/bin/python (found version \"3.10.12\") \n",
            "\u001b[33mCMake Warning (dev) at CMakeLists.txt:252 (find_package):\n",
            "  Policy CMP0148 is not set: The FindPythonInterp and FindPythonLibs modules\n",
            "  are removed.  Run \"cmake --help-policy CMP0148\" for policy details.  Use\n",
            "  the cmake_policy command to set the policy and suppress this warning.\n",
            "\n",
            "This warning is for project developers.  Use -Wno-dev to suppress it.\n",
            "\u001b[0m\n",
            "-- Found PythonLibs: /usr/lib/x86_64-linux-gnu/libpython3.10.so (found version \"3.10.12\") \n",
            "\u001b[33mCMake Warning (dev) at Code/cmake/Modules/FindNumPy.cmake:10 (find_package):\n",
            "  Policy CMP0148 is not set: The FindPythonInterp and FindPythonLibs modules\n",
            "  are removed.  Run \"cmake --help-policy CMP0148\" for policy details.  Use\n",
            "  the cmake_policy command to set the policy and suppress this warning.\n",
            "\n",
            "Call Stack (most recent call first):\n",
            "  CMakeLists.txt:267 (find_package)\n",
            "This warning is for project developers.  Use -Wno-dev to suppress it.\n",
            "\u001b[0m\n",
            "\u001b[0mPYTHON Py_ENABLE_SHARED: 1\u001b[0m\n",
            "\u001b[0mPYTHON USING LINK LINE: -shared -Wl,-O1 -Wl,-Bsymbolic-functions -Wl,-Bsymbolic-functions      -g -fwrapv -O2\u001b[0m\n",
            "\u001b[0mnbval not found, disabling the jupyter tests\u001b[0m\n",
            "-- Could NOT find Eigen3 (missing: EIGEN3_INCLUDE_DIR EIGEN3_VERSION_OK) (Required is at least version \"2.91.0\")\n",
            "\u001b[0mEigen3 not found, some Mol descriptors will not be built.\u001b[0m\n",
            "-- Performing Test CMAKE_HAVE_LIBC_PTHREAD\n",
            "-- Performing Test CMAKE_HAVE_LIBC_PTHREAD - Success\n",
            "-- Found Threads: TRUE  \n",
            "-- Found Boost: /usr/lib/x86_64-linux-gnu/cmake/Boost-1.74.0/BoostConfig.cmake (found suitable version \"1.74.0\", minimum required is \"1.58.0\") found components: system serialization iostreams \n",
            "\u001b[0m== Using strict rotor definition\u001b[0m\n",
            "-- Found Boost: /usr/lib/x86_64-linux-gnu/cmake/Boost-1.74.0/BoostConfig.cmake (found suitable version \"1.74.0\", minimum required is \"1.58.0\") found components: system iostreams \n",
            "\u001b[0m-- maeparser include dir set as 'maeparser_INCLUDE_DIRS-NOTFOUND'\u001b[0m\n",
            "\u001b[0m-- maeparser libraries set as 'maeparser_LIBRARIES-NOTFOUND'\u001b[0m\n",
            "-- Could NOT find maeparser (missing: maeparser_INCLUDE_DIRS maeparser_LIBRARIES) \n",
            "\u001b[0mDownloading https://github.com/schrodinger/maeparser/archive/v1.2.4.tar.gz...\u001b[0m\n",
            "\u001b[0m-- coordgen include dir set as coordgen_INCLUDE_DIRS-NOTFOUND\u001b[0m\n",
            "\u001b[0m-- coordgen libraries set as 'coordgen_LIBRARIES-NOTFOUND'\u001b[0m\n",
            "-- Could NOT find coordgen (missing: coordgen_INCLUDE_DIRS coordgen_LIBRARIES) \n",
            "\u001b[0mDownloading https://github.com/schrodinger/coordgenlibs/archive/v2.0.3.tar.gz...\u001b[0m\n",
            "\u001b[0mDownloading https://github.com/rareylab/RingDecomposerLib/archive/v1.1.3_rdkit.tar.gz...\u001b[0m\n",
            "-- Found Boost: /usr/lib/x86_64-linux-gnu/cmake/Boost-1.74.0/BoostConfig.cmake (found suitable version \"1.74.0\", minimum required is \"1.58.0\") found components: iostreams \n",
            "-- Found Boost: /usr/lib/x86_64-linux-gnu/cmake/Boost-1.74.0/BoostConfig.cmake (found suitable version \"1.74.0\", minimum required is \"1.58.0\") found components: system iostreams \n",
            "-- Found ZLIB: /usr/lib/x86_64-linux-gnu/libz.so (found version \"1.2.11\")  \n",
            "\u001b[33mCMake Warning (dev) at Code/GraphMol/FilterCatalog/CMakeLists.txt:8 (find_package):\n",
            "  Policy CMP0148 is not set: The FindPythonInterp and FindPythonLibs modules\n",
            "  are removed.  Run \"cmake --help-policy CMP0148\" for policy details.  Use\n",
            "  the cmake_policy command to set the policy and suppress this warning.\n",
            "\n",
            "This warning is for project developers.  Use -Wno-dev to suppress it.\n",
            "\u001b[0m\n",
            "\u001b[0m== Updating Filters.cpp from pains file\u001b[0m\n",
            "== Done updating pains files\n",
            "\u001b[0mDownloading https://fonts.google.com/download?family=Comic%20Neue...\u001b[0m\n",
            "\u001b[31mCMake Error at Code/cmake/Modules/RDKitUtils.cmake:224 (MESSAGE):\n",
            "  The md5 checksum for /content/RDKit/Code/GraphMol/MolDraw2D/Comic_Neue.zip\n",
            "  is incorrect; expected: 23ed3f833c1ae0adb141a26b4a30d73e, found:\n",
            "  850b0df852f1cda4970887b540f8f333\n",
            "Call Stack (most recent call first):\n",
            "  Code/GraphMol/MolDraw2D/CMakeLists.txt:16 (downloadAndCheckMD5)\n",
            "\n",
            "\u001b[0m\n",
            "-- Configuring incomplete, errors occurred!\n",
            "make: *** No targets specified and no makefile found.  Stop.\n",
            "make: *** No rule to make target 'install'.  Stop.\n",
            "\u001b[31mERROR: Directory '/content/RDKit' is not installable. Neither 'setup.py' nor 'pyproject.toml' found.\u001b[0m\u001b[31m\n",
            "\u001b[0mCollecting cairosvg\n",
            "  Downloading CairoSVG-2.7.1-py3-none-any.whl (43 kB)\n",
            "\u001b[2K     \u001b[90m━━━━━━━━━━━━━━━━━━━━━━━━━━━━━━━━━━━━━━━━\u001b[0m \u001b[32m43.2/43.2 kB\u001b[0m \u001b[31m1.9 MB/s\u001b[0m eta \u001b[36m0:00:00\u001b[0m\n",
            "\u001b[?25hCollecting cairocffi (from cairosvg)\n",
            "  Downloading cairocffi-1.6.1-py3-none-any.whl (75 kB)\n",
            "\u001b[2K     \u001b[90m━━━━━━━━━━━━━━━━━━━━━━━━━━━━━━━━━━━━━━━━\u001b[0m \u001b[32m75.1/75.1 kB\u001b[0m \u001b[31m4.6 MB/s\u001b[0m eta \u001b[36m0:00:00\u001b[0m\n",
            "\u001b[?25hCollecting cssselect2 (from cairosvg)\n",
            "  Downloading cssselect2-0.7.0-py3-none-any.whl (15 kB)\n",
            "Requirement already satisfied: defusedxml in /usr/local/lib/python3.10/dist-packages (from cairosvg) (0.7.1)\n",
            "Requirement already satisfied: pillow in /usr/local/lib/python3.10/dist-packages (from cairosvg) (9.4.0)\n",
            "Requirement already satisfied: tinycss2 in /usr/local/lib/python3.10/dist-packages (from cairosvg) (1.2.1)\n",
            "Requirement already satisfied: cffi>=1.1.0 in /usr/local/lib/python3.10/dist-packages (from cairocffi->cairosvg) (1.15.1)\n",
            "Requirement already satisfied: webencodings in /usr/local/lib/python3.10/dist-packages (from cssselect2->cairosvg) (0.5.1)\n",
            "Requirement already satisfied: pycparser in /usr/local/lib/python3.10/dist-packages (from cffi>=1.1.0->cairocffi->cairosvg) (2.21)\n",
            "Installing collected packages: cssselect2, cairocffi, cairosvg\n",
            "Successfully installed cairocffi-1.6.1 cairosvg-2.7.1 cssselect2-0.7.0\n",
            "Collecting faerun-notebook==0.1.5b0\n",
            "  Downloading faerun_notebook-0.1.5b0.tar.gz (534 kB)\n",
            "\u001b[2K     \u001b[90m━━━━━━━━━━━━━━━━━━━━━━━━━━━━━━━━━━━━━━\u001b[0m \u001b[32m535.0/535.0 kB\u001b[0m \u001b[31m10.0 MB/s\u001b[0m eta \u001b[36m0:00:00\u001b[0m\n",
            "\u001b[?25h  Installing build dependencies ... \u001b[?25l\u001b[?25hdone\n",
            "  Getting requirements to build wheel ... \u001b[?25l\u001b[?25hdone\n",
            "  Preparing metadata (pyproject.toml) ... \u001b[?25l\u001b[?25hdone\n",
            "Requirement already satisfied: ipywidgets>=7.6.0 in /usr/local/lib/python3.10/dist-packages (from faerun-notebook==0.1.5b0) (7.7.1)\n",
            "Requirement already satisfied: numpy in /usr/local/lib/python3.10/dist-packages (from faerun-notebook==0.1.5b0) (1.23.5)\n",
            "Requirement already satisfied: matplotlib in /usr/local/lib/python3.10/dist-packages (from faerun-notebook==0.1.5b0) (3.7.1)\n",
            "Requirement already satisfied: ipykernel>=4.5.1 in /usr/local/lib/python3.10/dist-packages (from ipywidgets>=7.6.0->faerun-notebook==0.1.5b0) (5.5.6)\n",
            "Requirement already satisfied: ipython-genutils~=0.2.0 in /usr/local/lib/python3.10/dist-packages (from ipywidgets>=7.6.0->faerun-notebook==0.1.5b0) (0.2.0)\n",
            "Requirement already satisfied: traitlets>=4.3.1 in /usr/local/lib/python3.10/dist-packages (from ipywidgets>=7.6.0->faerun-notebook==0.1.5b0) (5.7.1)\n",
            "Requirement already satisfied: widgetsnbextension~=3.6.0 in /usr/local/lib/python3.10/dist-packages (from ipywidgets>=7.6.0->faerun-notebook==0.1.5b0) (3.6.5)\n",
            "Requirement already satisfied: ipython>=4.0.0 in /usr/local/lib/python3.10/dist-packages (from ipywidgets>=7.6.0->faerun-notebook==0.1.5b0) (7.34.0)\n",
            "Requirement already satisfied: jupyterlab-widgets>=1.0.0 in /usr/local/lib/python3.10/dist-packages (from ipywidgets>=7.6.0->faerun-notebook==0.1.5b0) (3.0.8)\n",
            "Requirement already satisfied: contourpy>=1.0.1 in /usr/local/lib/python3.10/dist-packages (from matplotlib->faerun-notebook==0.1.5b0) (1.1.0)\n",
            "Requirement already satisfied: cycler>=0.10 in /usr/local/lib/python3.10/dist-packages (from matplotlib->faerun-notebook==0.1.5b0) (0.11.0)\n",
            "Requirement already satisfied: fonttools>=4.22.0 in /usr/local/lib/python3.10/dist-packages (from matplotlib->faerun-notebook==0.1.5b0) (4.42.1)\n",
            "Requirement already satisfied: kiwisolver>=1.0.1 in /usr/local/lib/python3.10/dist-packages (from matplotlib->faerun-notebook==0.1.5b0) (1.4.5)\n",
            "Requirement already satisfied: packaging>=20.0 in /usr/local/lib/python3.10/dist-packages (from matplotlib->faerun-notebook==0.1.5b0) (23.1)\n",
            "Requirement already satisfied: pillow>=6.2.0 in /usr/local/lib/python3.10/dist-packages (from matplotlib->faerun-notebook==0.1.5b0) (9.4.0)\n",
            "Requirement already satisfied: pyparsing>=2.3.1 in /usr/local/lib/python3.10/dist-packages (from matplotlib->faerun-notebook==0.1.5b0) (3.1.1)\n",
            "Requirement already satisfied: python-dateutil>=2.7 in /usr/local/lib/python3.10/dist-packages (from matplotlib->faerun-notebook==0.1.5b0) (2.8.2)\n",
            "Requirement already satisfied: jupyter-client in /usr/local/lib/python3.10/dist-packages (from ipykernel>=4.5.1->ipywidgets>=7.6.0->faerun-notebook==0.1.5b0) (6.1.12)\n",
            "Requirement already satisfied: tornado>=4.2 in /usr/local/lib/python3.10/dist-packages (from ipykernel>=4.5.1->ipywidgets>=7.6.0->faerun-notebook==0.1.5b0) (6.3.2)\n",
            "Requirement already satisfied: setuptools>=18.5 in /usr/local/lib/python3.10/dist-packages (from ipython>=4.0.0->ipywidgets>=7.6.0->faerun-notebook==0.1.5b0) (67.7.2)\n",
            "Collecting jedi>=0.16 (from ipython>=4.0.0->ipywidgets>=7.6.0->faerun-notebook==0.1.5b0)\n",
            "  Using cached jedi-0.19.0-py2.py3-none-any.whl (1.6 MB)\n",
            "Requirement already satisfied: decorator in /usr/local/lib/python3.10/dist-packages (from ipython>=4.0.0->ipywidgets>=7.6.0->faerun-notebook==0.1.5b0) (4.4.2)\n",
            "Requirement already satisfied: pickleshare in /usr/local/lib/python3.10/dist-packages (from ipython>=4.0.0->ipywidgets>=7.6.0->faerun-notebook==0.1.5b0) (0.7.5)\n",
            "Requirement already satisfied: prompt-toolkit!=3.0.0,!=3.0.1,<3.1.0,>=2.0.0 in /usr/local/lib/python3.10/dist-packages (from ipython>=4.0.0->ipywidgets>=7.6.0->faerun-notebook==0.1.5b0) (3.0.39)\n",
            "Requirement already satisfied: pygments in /usr/local/lib/python3.10/dist-packages (from ipython>=4.0.0->ipywidgets>=7.6.0->faerun-notebook==0.1.5b0) (2.16.1)\n",
            "Requirement already satisfied: backcall in /usr/local/lib/python3.10/dist-packages (from ipython>=4.0.0->ipywidgets>=7.6.0->faerun-notebook==0.1.5b0) (0.2.0)\n",
            "Requirement already satisfied: matplotlib-inline in /usr/local/lib/python3.10/dist-packages (from ipython>=4.0.0->ipywidgets>=7.6.0->faerun-notebook==0.1.5b0) (0.1.6)\n",
            "Requirement already satisfied: pexpect>4.3 in /usr/local/lib/python3.10/dist-packages (from ipython>=4.0.0->ipywidgets>=7.6.0->faerun-notebook==0.1.5b0) (4.8.0)\n",
            "Requirement already satisfied: six>=1.5 in /usr/local/lib/python3.10/dist-packages (from python-dateutil>=2.7->matplotlib->faerun-notebook==0.1.5b0) (1.16.0)\n",
            "Requirement already satisfied: notebook>=4.4.1 in /usr/local/lib/python3.10/dist-packages (from widgetsnbextension~=3.6.0->ipywidgets>=7.6.0->faerun-notebook==0.1.5b0) (6.5.5)\n",
            "Requirement already satisfied: parso<0.9.0,>=0.8.3 in /usr/local/lib/python3.10/dist-packages (from jedi>=0.16->ipython>=4.0.0->ipywidgets>=7.6.0->faerun-notebook==0.1.5b0) (0.8.3)\n",
            "Requirement already satisfied: jinja2 in /usr/local/lib/python3.10/dist-packages (from notebook>=4.4.1->widgetsnbextension~=3.6.0->ipywidgets>=7.6.0->faerun-notebook==0.1.5b0) (3.1.2)\n",
            "Requirement already satisfied: pyzmq<25,>=17 in /usr/local/lib/python3.10/dist-packages (from notebook>=4.4.1->widgetsnbextension~=3.6.0->ipywidgets>=7.6.0->faerun-notebook==0.1.5b0) (23.2.1)\n",
            "Requirement already satisfied: argon2-cffi in /usr/local/lib/python3.10/dist-packages (from notebook>=4.4.1->widgetsnbextension~=3.6.0->ipywidgets>=7.6.0->faerun-notebook==0.1.5b0) (23.1.0)\n",
            "Requirement already satisfied: jupyter-core>=4.6.1 in /usr/local/lib/python3.10/dist-packages (from notebook>=4.4.1->widgetsnbextension~=3.6.0->ipywidgets>=7.6.0->faerun-notebook==0.1.5b0) (5.3.1)\n",
            "Requirement already satisfied: nbformat in /usr/local/lib/python3.10/dist-packages (from notebook>=4.4.1->widgetsnbextension~=3.6.0->ipywidgets>=7.6.0->faerun-notebook==0.1.5b0) (5.9.2)\n",
            "Requirement already satisfied: nbconvert>=5 in /usr/local/lib/python3.10/dist-packages (from notebook>=4.4.1->widgetsnbextension~=3.6.0->ipywidgets>=7.6.0->faerun-notebook==0.1.5b0) (6.5.4)\n",
            "Requirement already satisfied: nest-asyncio>=1.5 in /usr/local/lib/python3.10/dist-packages (from notebook>=4.4.1->widgetsnbextension~=3.6.0->ipywidgets>=7.6.0->faerun-notebook==0.1.5b0) (1.5.7)\n",
            "Requirement already satisfied: Send2Trash>=1.8.0 in /usr/local/lib/python3.10/dist-packages (from notebook>=4.4.1->widgetsnbextension~=3.6.0->ipywidgets>=7.6.0->faerun-notebook==0.1.5b0) (1.8.2)\n",
            "Requirement already satisfied: terminado>=0.8.3 in /usr/local/lib/python3.10/dist-packages (from notebook>=4.4.1->widgetsnbextension~=3.6.0->ipywidgets>=7.6.0->faerun-notebook==0.1.5b0) (0.17.1)\n",
            "Requirement already satisfied: prometheus-client in /usr/local/lib/python3.10/dist-packages (from notebook>=4.4.1->widgetsnbextension~=3.6.0->ipywidgets>=7.6.0->faerun-notebook==0.1.5b0) (0.17.1)\n",
            "Requirement already satisfied: nbclassic>=0.4.7 in /usr/local/lib/python3.10/dist-packages (from notebook>=4.4.1->widgetsnbextension~=3.6.0->ipywidgets>=7.6.0->faerun-notebook==0.1.5b0) (1.0.0)\n",
            "Requirement already satisfied: ptyprocess>=0.5 in /usr/local/lib/python3.10/dist-packages (from pexpect>4.3->ipython>=4.0.0->ipywidgets>=7.6.0->faerun-notebook==0.1.5b0) (0.7.0)\n",
            "Requirement already satisfied: wcwidth in /usr/local/lib/python3.10/dist-packages (from prompt-toolkit!=3.0.0,!=3.0.1,<3.1.0,>=2.0.0->ipython>=4.0.0->ipywidgets>=7.6.0->faerun-notebook==0.1.5b0) (0.2.6)\n",
            "Requirement already satisfied: platformdirs>=2.5 in /usr/local/lib/python3.10/dist-packages (from jupyter-core>=4.6.1->notebook>=4.4.1->widgetsnbextension~=3.6.0->ipywidgets>=7.6.0->faerun-notebook==0.1.5b0) (3.10.0)\n",
            "Requirement already satisfied: jupyter-server>=1.8 in /usr/local/lib/python3.10/dist-packages (from nbclassic>=0.4.7->notebook>=4.4.1->widgetsnbextension~=3.6.0->ipywidgets>=7.6.0->faerun-notebook==0.1.5b0) (1.24.0)\n",
            "Requirement already satisfied: notebook-shim>=0.2.3 in /usr/local/lib/python3.10/dist-packages (from nbclassic>=0.4.7->notebook>=4.4.1->widgetsnbextension~=3.6.0->ipywidgets>=7.6.0->faerun-notebook==0.1.5b0) (0.2.3)\n",
            "Requirement already satisfied: lxml in /usr/local/lib/python3.10/dist-packages (from nbconvert>=5->notebook>=4.4.1->widgetsnbextension~=3.6.0->ipywidgets>=7.6.0->faerun-notebook==0.1.5b0) (4.9.3)\n",
            "Requirement already satisfied: beautifulsoup4 in /usr/local/lib/python3.10/dist-packages (from nbconvert>=5->notebook>=4.4.1->widgetsnbextension~=3.6.0->ipywidgets>=7.6.0->faerun-notebook==0.1.5b0) (4.11.2)\n",
            "Requirement already satisfied: bleach in /usr/local/lib/python3.10/dist-packages (from nbconvert>=5->notebook>=4.4.1->widgetsnbextension~=3.6.0->ipywidgets>=7.6.0->faerun-notebook==0.1.5b0) (6.0.0)\n",
            "Requirement already satisfied: defusedxml in /usr/local/lib/python3.10/dist-packages (from nbconvert>=5->notebook>=4.4.1->widgetsnbextension~=3.6.0->ipywidgets>=7.6.0->faerun-notebook==0.1.5b0) (0.7.1)\n",
            "Requirement already satisfied: entrypoints>=0.2.2 in /usr/local/lib/python3.10/dist-packages (from nbconvert>=5->notebook>=4.4.1->widgetsnbextension~=3.6.0->ipywidgets>=7.6.0->faerun-notebook==0.1.5b0) (0.4)\n",
            "Requirement already satisfied: jupyterlab-pygments in /usr/local/lib/python3.10/dist-packages (from nbconvert>=5->notebook>=4.4.1->widgetsnbextension~=3.6.0->ipywidgets>=7.6.0->faerun-notebook==0.1.5b0) (0.2.2)\n",
            "Requirement already satisfied: MarkupSafe>=2.0 in /usr/local/lib/python3.10/dist-packages (from nbconvert>=5->notebook>=4.4.1->widgetsnbextension~=3.6.0->ipywidgets>=7.6.0->faerun-notebook==0.1.5b0) (2.1.3)\n",
            "Requirement already satisfied: mistune<2,>=0.8.1 in /usr/local/lib/python3.10/dist-packages (from nbconvert>=5->notebook>=4.4.1->widgetsnbextension~=3.6.0->ipywidgets>=7.6.0->faerun-notebook==0.1.5b0) (0.8.4)\n",
            "Requirement already satisfied: nbclient>=0.5.0 in /usr/local/lib/python3.10/dist-packages (from nbconvert>=5->notebook>=4.4.1->widgetsnbextension~=3.6.0->ipywidgets>=7.6.0->faerun-notebook==0.1.5b0) (0.8.0)\n",
            "Requirement already satisfied: pandocfilters>=1.4.1 in /usr/local/lib/python3.10/dist-packages (from nbconvert>=5->notebook>=4.4.1->widgetsnbextension~=3.6.0->ipywidgets>=7.6.0->faerun-notebook==0.1.5b0) (1.5.0)\n",
            "Requirement already satisfied: tinycss2 in /usr/local/lib/python3.10/dist-packages (from nbconvert>=5->notebook>=4.4.1->widgetsnbextension~=3.6.0->ipywidgets>=7.6.0->faerun-notebook==0.1.5b0) (1.2.1)\n",
            "Requirement already satisfied: fastjsonschema in /usr/local/lib/python3.10/dist-packages (from nbformat->notebook>=4.4.1->widgetsnbextension~=3.6.0->ipywidgets>=7.6.0->faerun-notebook==0.1.5b0) (2.18.0)\n",
            "Requirement already satisfied: jsonschema>=2.6 in /usr/local/lib/python3.10/dist-packages (from nbformat->notebook>=4.4.1->widgetsnbextension~=3.6.0->ipywidgets>=7.6.0->faerun-notebook==0.1.5b0) (4.19.0)\n",
            "Requirement already satisfied: argon2-cffi-bindings in /usr/local/lib/python3.10/dist-packages (from argon2-cffi->notebook>=4.4.1->widgetsnbextension~=3.6.0->ipywidgets>=7.6.0->faerun-notebook==0.1.5b0) (21.2.0)\n",
            "Requirement already satisfied: attrs>=22.2.0 in /usr/local/lib/python3.10/dist-packages (from jsonschema>=2.6->nbformat->notebook>=4.4.1->widgetsnbextension~=3.6.0->ipywidgets>=7.6.0->faerun-notebook==0.1.5b0) (23.1.0)\n",
            "Requirement already satisfied: jsonschema-specifications>=2023.03.6 in /usr/local/lib/python3.10/dist-packages (from jsonschema>=2.6->nbformat->notebook>=4.4.1->widgetsnbextension~=3.6.0->ipywidgets>=7.6.0->faerun-notebook==0.1.5b0) (2023.7.1)\n",
            "Requirement already satisfied: referencing>=0.28.4 in /usr/local/lib/python3.10/dist-packages (from jsonschema>=2.6->nbformat->notebook>=4.4.1->widgetsnbextension~=3.6.0->ipywidgets>=7.6.0->faerun-notebook==0.1.5b0) (0.30.2)\n",
            "Requirement already satisfied: rpds-py>=0.7.1 in /usr/local/lib/python3.10/dist-packages (from jsonschema>=2.6->nbformat->notebook>=4.4.1->widgetsnbextension~=3.6.0->ipywidgets>=7.6.0->faerun-notebook==0.1.5b0) (0.10.2)\n",
            "Requirement already satisfied: anyio<4,>=3.1.0 in /usr/local/lib/python3.10/dist-packages (from jupyter-server>=1.8->nbclassic>=0.4.7->notebook>=4.4.1->widgetsnbextension~=3.6.0->ipywidgets>=7.6.0->faerun-notebook==0.1.5b0) (3.7.1)\n",
            "Requirement already satisfied: websocket-client in /usr/local/lib/python3.10/dist-packages (from jupyter-server>=1.8->nbclassic>=0.4.7->notebook>=4.4.1->widgetsnbextension~=3.6.0->ipywidgets>=7.6.0->faerun-notebook==0.1.5b0) (1.6.2)\n",
            "Requirement already satisfied: cffi>=1.0.1 in /usr/local/lib/python3.10/dist-packages (from argon2-cffi-bindings->argon2-cffi->notebook>=4.4.1->widgetsnbextension~=3.6.0->ipywidgets>=7.6.0->faerun-notebook==0.1.5b0) (1.15.1)\n",
            "Requirement already satisfied: soupsieve>1.2 in /usr/local/lib/python3.10/dist-packages (from beautifulsoup4->nbconvert>=5->notebook>=4.4.1->widgetsnbextension~=3.6.0->ipywidgets>=7.6.0->faerun-notebook==0.1.5b0) (2.5)\n",
            "Requirement already satisfied: webencodings in /usr/local/lib/python3.10/dist-packages (from bleach->nbconvert>=5->notebook>=4.4.1->widgetsnbextension~=3.6.0->ipywidgets>=7.6.0->faerun-notebook==0.1.5b0) (0.5.1)\n",
            "Requirement already satisfied: idna>=2.8 in /usr/local/lib/python3.10/dist-packages (from anyio<4,>=3.1.0->jupyter-server>=1.8->nbclassic>=0.4.7->notebook>=4.4.1->widgetsnbextension~=3.6.0->ipywidgets>=7.6.0->faerun-notebook==0.1.5b0) (3.4)\n",
            "Requirement already satisfied: sniffio>=1.1 in /usr/local/lib/python3.10/dist-packages (from anyio<4,>=3.1.0->jupyter-server>=1.8->nbclassic>=0.4.7->notebook>=4.4.1->widgetsnbextension~=3.6.0->ipywidgets>=7.6.0->faerun-notebook==0.1.5b0) (1.3.0)\n",
            "Requirement already satisfied: exceptiongroup in /usr/local/lib/python3.10/dist-packages (from anyio<4,>=3.1.0->jupyter-server>=1.8->nbclassic>=0.4.7->notebook>=4.4.1->widgetsnbextension~=3.6.0->ipywidgets>=7.6.0->faerun-notebook==0.1.5b0) (1.1.3)\n",
            "Requirement already satisfied: pycparser in /usr/local/lib/python3.10/dist-packages (from cffi>=1.0.1->argon2-cffi-bindings->argon2-cffi->notebook>=4.4.1->widgetsnbextension~=3.6.0->ipywidgets>=7.6.0->faerun-notebook==0.1.5b0) (2.21)\n",
            "Building wheels for collected packages: faerun-notebook\n",
            "  Building wheel for faerun-notebook (pyproject.toml) ... \u001b[?25l\u001b[?25hdone\n",
            "  Created wheel for faerun-notebook: filename=faerun_notebook-0.1.5b0-py2.py3-none-any.whl size=470156 sha256=26aecf8ab685f7ed9bddd60c1b0195da5be05644c52a0819fe19d6f93b5e3d69\n",
            "  Stored in directory: /root/.cache/pip/wheels/92/d6/0e/c24e55ea7bb33143c61a11fb03b609cff740f24875d0bf4fad\n",
            "Successfully built faerun-notebook\n",
            "Installing collected packages: jedi, faerun-notebook\n",
            "Successfully installed faerun-notebook-0.1.5b0 jedi-0.19.0\n",
            "Reacción balanceada: O=C=O\n"
          ]
        },
        {
          "output_type": "stream",
          "name": "stderr",
          "text": [
            "[03:10:20] reactant 0 has no mapped atoms.\n",
            "[03:10:20] reactant 1 has no mapped atoms.\n",
            "[03:10:20] product 0 has no mapped atoms.\n",
            "[03:10:20] product 1 has no mapped atoms.\n"
          ]
        },
        {
          "output_type": "execute_result",
          "data": {
            "image/png": "[encoded data removed]",
            "text/plain": [
              "<IPython.core.display.Image object>"
            ]
          },
          "metadata": {},
          "execution_count": 1
        }
      ]
    },
    {
      "cell_type": "markdown",
      "metadata": {
        "id": "Rh-nAUiKhJNB"
      },
      "source": [
        "## Pregunta 4: SMILES, RDKit y Open Babel (4 puntos)"
      ]
    },
    {
      "cell_type": "markdown",
      "metadata": {
        "id": "NIkI45Xdqqnt"
      },
      "source": [
        "Colecta la representación SMILES de 10 fármacos usando RDKit y preoptimiza sus estructuras."
      ]
    },
    {
      "cell_type": "code",
      "execution_count": 2,
      "metadata": {
        "id": "9sHF1c7tqTKv",
        "colab": {
          "base_uri": "https://localhost:8080/"
        },
        "outputId": "383cbd6d-baa5-44ec-9e1c-133d105204cf"
      },
      "outputs": [
        {
          "output_type": "stream",
          "name": "stdout",
          "text": [
            "Fármaco: Aspirina\n",
            "SMILES optimizado: [H]OC(=O)c1c([H])c([H])c([H])c([H])c1OC(=O)C([H])([H])[H]\n",
            "\n",
            "Fármaco: Paracetamol\n",
            "SMILES optimizado: [H]Oc1c([H])c([H])c(N([H])C(=O)C([H])([H])[H])c([H])c1[H]\n",
            "\n",
            "Fármaco: Ibuprofeno\n",
            "SMILES optimizado: [H]OC(=O)C([H])(c1c([H])c([H])c(C([H])([H])C([H])(C([H])([H])[H])C([H])([H])[H])c([H])c1[H])C([H])([H])[H]\n",
            "\n",
            "Fármaco: Loratadina\n",
            "SMILES optimizado: [H]c1c([H])c([H])c(N(C([H])([H])[H])C([H])([H])[H])c(-c2c([H])c([H])c(OC(C([H])([H])[H])(C([H])([H])[H])C([H])([H])[H])c([H])c2[H])c1[H]\n",
            "\n",
            "Fármaco: Omeprazol\n",
            "SMILES optimizado: [H]c1c(OC([H])([H])[H])c(S(=O)(=O)N2C([H])([H])C([H])([H])N(C(=O)C3([H])C([H])([H])C([H])([H])C([H])([H])C3([H])[H])C([H])([H])C2([H])[H])c2c([H])c([H])n([H])c2c1[H]\n",
            "\n",
            "Fármaco: Metformina\n",
            "SMILES optimizado: [H]N(C(=O)N(C([H])([H])[H])C([H])([H])[H])C([H])([H])C([H])([H])C([H])([H])N1C(=O)N([H])C([H])(C([H])([H])[H])N(C([H])([H])[H])C1=O\n",
            "\n",
            "Fármaco: Atorvastatina\n",
            "SMILES optimizado: [H]OC(=O)C1=C([H])N(C(=O)C([H])([H])[C@@]([H])(O[H])C([H])([H])C([H])(C([H])([H])[H])C([H])([H])[H])C(c2c([H])c([H])c(F)c([H])c2[H])=C([H])C1([H])c1c([H])c([H])c(C([H])(C([H])([H])[H])C([H])([H])[H])c([H])c1[H]\n",
            "\n",
            "Fármaco: Amoxicilina\n",
            "SMILES optimizado: [H]OC(=O)C1([H])N2C(=O)C([H])(N([H])C(=O)C([H])(c3c([H])c([H])c([H])c([H])c3[H])N([H])[H])C2([H])SC1(C([H])([H])[H])C([H])([H])[H]\n",
            "\n",
            "Fármaco: Tramadol\n",
            "SMILES optimizado: [H]OC([H])(C([H])([H])[H])C([H])([H])N(C([H])([H])c1c([H])c([H])c([H])c([H])c1[H])C([H])([H])c1c([H])c([H])c([H])c([H])c1[H]\n",
            "\n",
            "Fármaco: Sertralina\n",
            "SMILES optimizado: [H]c1c([H])c([H])c(C([H])(c2c([H])c([H])c([H])c([H])c2[H])C([H])([H])C([H])([H])C([H])([H])N([H])C([H])([H])[H])c([H])c1[H]\n",
            "\n"
          ]
        }
      ],
      "source": [
        "from rdkit import Chem\n",
        "from rdkit.Chem import AllChem\n",
        "\n",
        "nombres_farmacos = [\n",
        "    (\"Aspirina\", \"CC(=O)OC1=CC=CC=C1C(=O)O\"),\n",
        "    (\"Paracetamol\", \"CC(=O)NC1=CC=C(C=C1)O\"),\n",
        "    (\"Ibuprofeno\", \"CC(C)CC1=CC=C(C=C1)C(C)C(=O)O\"),\n",
        "    (\"Loratadina\", \"CC(C)(C)OC1=CC=C(C=C1)C2=CC=CC=C2N(C)C\"),\n",
        "    (\"Omeprazol\", \"COc1ccc2[nH]ccc2c1S(=O)(=O)N3CCN(CC3)C(=O)C4CCCC4\"),\n",
        "    (\"Metformina\", \"CN(C)C(=O)NCCCN1C(=O)NC(N(C1=O)C)C\"),\n",
        "    (\"Atorvastatina\", \"CC(C)C[C@H](O)CC(=O)N1C=C(C(C=C1C2=CC=C(C=C2)F)C3=CC=C(C=C3)C(C)C)C(=O)O\"),\n",
        "    (\"Amoxicilina\", \"CC1(C(N2C(S1)C(C2=O)NC(=O)C(C3=CC=CC=C3)N)C(=O)O)C\"),\n",
        "    (\"Tramadol\", \"CC(CN(CC1=CC=CC=C1)CC1=CC=CC=C1)O\"),\n",
        "    (\"Sertralina\", \"CNCCC[C@H](C1=CC=CC=C1)C2=CC=CC=C2\")\n",
        "]\n",
        "\n",
        "estructuras_optimizadas = []\n",
        "\n",
        "for nombre, smiles in nombres_farmacos:\n",
        "    mol = Chem.MolFromSmiles(smiles)\n",
        "    mol = Chem.AddHs(mol)\n",
        "    AllChem.EmbedMolecule(mol)\n",
        "    AllChem.UFFOptimizeMolecule(mol)\n",
        "    smi_optimizado = Chem.MolToSmiles(mol)\n",
        "    estructuras_optimizadas.append(smi_optimizado)\n",
        "\n",
        "for i, smi_optimizado in enumerate(estructuras_optimizadas):\n",
        "    print(\"Fármaco:\", nombres_farmacos[i][0])\n",
        "    print(\"SMILES optimizado:\", smi_optimizado)\n",
        "    print()"
      ]
    },
    {
      "cell_type": "markdown",
      "metadata": {
        "id": "CuzCcXJghR14"
      },
      "source": [
        "## Pregunta 5: Método científico (4 puntos)"
      ]
    },
    {
      "cell_type": "markdown",
      "metadata": {
        "id": "WngRSR-Rhmx1"
      },
      "source": [
        "Leer el artículo disponibilizado por el profesor y explica cómo es aplicado el método científico. Emplea como máximo 300 palabras.\n",
        "\n",
        "Observación: Se encuentra en el texto mediante el problema identificado el cual es la necesidad de relacionar una propiedad periódica, en este caso, la energía de ionización, con un modelo didáctico que ayude a comprenderla.\n",
        "\n",
        "Hipotesis: se establecen planes y reglas para la construcción de modelos didácticos y se espera que estos modelos ayuden a comprender las relaciones periódicas en la química atómica.\n",
        "\n",
        "Experimentación: Se construyen modelos didácticos utilizando cajas de huevos y bolas de ping-pong para representar la estructura electrónica de los átomos. Se siguen las reglas de llenado de electrones y se explican las relaciones periódicas.\n",
        "\n",
        "Recopilación de datos: Se recopilan datos de la literatura sobre energía de ionización y radio atómico para los elementos hasta el número atómico 18.\n",
        "\n",
        "Análisis de datos: Se analizan los datos recopilados y se grafican para visualizar las relaciones periódicas entre la energía de ionización y el radio atómico.\n",
        "\n",
        "Evaluación del impacto: Se evalúa el impacto del modelo didáctico en el aprendizaje de los estudiantes a través de la realización de actividades en grupos y la presentación oral de resultados. Se utiliza una rúbrica para asignar calificaciones.\n",
        "\n",
        "Conclusión: Se interpreta que el modelo didáctico ha tenido un impacto positivo en el aprendizaje de los estudiantes, ya que la mayoría obtuvo calificaciones sobresalientes.\n",
        "\n",
        "Comunicación de resultados: Se presentan los resultados obtenidos en un histograma de frecuencias para demostrar el éxito del modelo didáctico en la comprensión de la estructura atómica y las propiedades periódicas."
      ]
    }
  ],
  "metadata": {
    "colab": {
      "provenance": [],
      "include_colab_link": true
    },
    "kernelspec": {
      "display_name": "Python 3",
      "name": "python3"
    },
    "language_info": {
      "codemirror_mode": {
        "name": "ipython",
        "version": 3
      },
      "file_extension": ".py",
      "mimetype": "text/x-python",
      "name": "python",
      "nbconvert_exporter": "python",
      "pygments_lexer": "ipython3",
      "version": "3.11.5"
    }
  },
  "nbformat": 4,
  "nbformat_minor": 0
}