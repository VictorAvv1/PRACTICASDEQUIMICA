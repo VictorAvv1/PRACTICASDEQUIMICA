{
  "nbformat": 4,
  "nbformat_minor": 0,
  "metadata": {
    "colab": {
      "provenance": [],
      "authorship_tag": "ABX9TyOzCfnAUcZrQ1SiUOtRXJdM",
      "include_colab_link": true
    },
    "kernelspec": {
      "name": "python3",
      "display_name": "Python 3"
    },
    "language_info": {
      "name": "python"
    }
  },
  "cells": [
    {
      "cell_type": "markdown",
      "metadata": {
        "id": "view-in-github",
        "colab_type": "text"
      },
      "source": [
        "<a href=\"https://colab.research.google.com/github/VictorAvv1/PRACTICASDEQUIMICA/blob/main/Termodin%C3%A1mica%20vs%20cin%C3%A9tica.ipynb\" target=\"_parent\"><img src=\"https://colab.research.google.com/assets/colab-badge.svg\" alt=\"Open In Colab\"/></a>"
      ]
    },
    {
      "cell_type": "code",
      "execution_count": null,
      "metadata": {
        "id": "5tuGHG8Dskgr"
      },
      "outputs": [],
      "source": [
        "import importlib\n",
        "\n",
        "def check_install_rdkit():\n",
        "    try:\n",
        "        importlib.import_module('rdkit')\n",
        "        print(\"El paquete rdkit ya está instalado\")\n",
        "    except ImportError:\n",
        "        print(\"El paquete rdkit no está instalado. Instalando...\")\n",
        "        !pip install rdkit\n",
        "        print(\"El paquete rdkit ha sido instalado correctamente\")\n",
        "\n",
        "    try:\n",
        "        importlib.import_module('pyscf')\n",
        "        print(\"El paquete pyscf ya está instalado\")\n",
        "    except ImportError:\n",
        "        print(\"El paquete pyscf no está instalado. Instalando...\")\n",
        "        !pip install pyscf\n",
        "        print(\"El paquete pyscf ha sido instalado correctamente\")\n",
        "\n",
        "# Verificar e instalar rdkit y pyscf si es necesario\n",
        "check_install_rdkit()\n",
        "\n",
        "# Importar módulos necesarios\n",
        "from rdkit import Chem\n",
        "from rdkit.Chem import AllChem\n",
        "from pyscf import gto, scf\n",
        "\n",
        "# Estructuras\n",
        "# Isómero CIS\n",
        "smi_cis = \"F/C=C\\C\"\n",
        "cis = Chem.MolFromSmiles(smi_cis)\n",
        "cis = Chem.AddHs(cis)\n",
        "AllChem.EmbedMolecule(cis, useRandomCoords=False, randomSeed=1234)\n",
        "Chem.MolToXYZFile(cis, \"cis.xyz\")\n",
        "\n",
        "# Isómero TRANS\n",
        "smi_trans = \"F\\C=C/C\"\n",
        "trans = Chem.MolFromSmiles(smi_trans)\n",
        "trans = Chem.AddHs(trans)\n",
        "AllChem.EmbedMolecule(trans, useRandomCoords=False, randomSeed=1234)\n",
        "Chem.MolToXYZFile(trans, \"trans.xyz\")\n",
        "\n",
        "# Cálculo de energía\n",
        "# CIS\n",
        "cis_mol = gto.M(atom=\"cis.xyz\", basis=\"6-31G\")\n",
        "mf_cis = cis_mol.RKS().run(xc='b3lyp')\n",
        "resultado_cis = mf_cis.e_tot\n",
        "\n",
        "# TRANS\n",
        "trans_mol = gto.M(atom=\"trans.xyz\", basis=\"6-31G\")\n",
        "mf_trans = trans_mol.RKS().run(xc='b3lyp')\n",
        "resultado_trans = mf_trans.e_tot\n",
        "\n",
        "# Cálculo de energía de activación\n",
        "energia_activacion = resultado_trans - resultado_cis\n",
        "\n",
        "# Conversión a J/mol\n",
        "numero_moles = 1  # Supongamos 1 mol de ácido fórmico\n",
        "constante_conversion = 4.3597447222071e-18  # Constante de conversión de Hartree a J\n",
        "\n",
        "energia_activacion_joules = energia_activacion * numero_moles * constante_conversion\n",
        "\n",
        "# Cálculo del tipo de reacción\n",
        "entalpia = resultado_trans - resultado_cis\n",
        "\n",
        "if entalpia > 0:\n",
        "    tipo_reaccion = \"endotérmica\"\n",
        "else:\n",
        "    tipo_reaccion = \"exotérmica\"\n",
        "\n",
        "# Resultados\n",
        "print(\"La energía de activación de la reacción de isomerización del ácido fórmico es:\", energia_activacion_joules, \"J/mol\")\n",
        "print(\"La reacción es\", tipo_reaccion)\n",
        "print(\"Estructura cis:\")\n",
        "print(Chem.MolToSmiles(cis))\n",
        "print(\"Estructura trans:\")\n",
        "print(Chem.MolToSmiles(trans))"
      ]
    }
  ]
}