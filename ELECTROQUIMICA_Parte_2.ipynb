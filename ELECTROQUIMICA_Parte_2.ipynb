{
  "nbformat": 4,
  "nbformat_minor": 0,
  "metadata": {
    "colab": {
      "provenance": [],
      "include_colab_link": true
    },
    "kernelspec": {
      "name": "python3",
      "display_name": "Python 3"
    },
    "language_info": {
      "name": "python"
    }
  },
  "cells": [
    {
      "cell_type": "markdown",
      "metadata": {
        "id": "view-in-github",
        "colab_type": "text"
      },
      "source": [
        "<a href=\"https://colab.research.google.com/github/VictorAvv1/PRACTICASDEQUIMICA/blob/main/ELECTROQUIMICA_Parte_2.ipynb\" target=\"_parent\"><img src=\"https://colab.research.google.com/assets/colab-badge.svg\" alt=\"Open In Colab\"/></a>"
      ]
    },
    {
      "cell_type": "markdown",
      "source": [
        "**ELECTROQUIMICA - (7) libre#2 **\n",
        "Ejercicio: 1 mL de agua oxigenada se diluye con agua hasta un volumen final de 20 mL. La valoración exacta de esta disolución consume, en el punto de equivalencia, 15 mL de una disolución acuosa de permanganato 0,01 M."
      ],
      "metadata": {
        "id": "jqfe5gwAKFbK"
      }
    },
    {
      "cell_type": "code",
      "execution_count": null,
      "metadata": {
        "id": "CRb-611QJ9dy"
      },
      "outputs": [],
      "source": [
        "V_oxigenada = 1\n",
        "V_final = 20\n",
        "C_permanganato = 0.01\n",
        "\n",
        "# Volumen de permanganato usado en la valoración\n",
        "V_permanganato = 15  # Volumen de permanganato en mL\n",
        "\n",
        "# Calculando la cantidad de moles de permanganato de potasio\n",
        "moles_permanganato = C_permanganato * V_permanganato / 1000  # Convertir a litros\n",
        "\n",
        "# Relación entre los moles de permanganato y agua oxigenada es 2:5\n",
        "moles_oxigenada = (moles_permanganato * 5) / 2\n",
        "\n",
        "# Calculando la concentración de la disolución de agua oxigenada\n",
        "C_oxigenada = moles_oxigenada / (V_oxigenada / 1000)  # Convertir a litros\n",
        "\n",
        "# Imprimir la concentración de la disolución de agua oxigenada\n",
        "print(f\"La concentración de la disolución de agua oxigenada es: {C_oxigenada:.4f} M\")"
      ]
    }
  ]
}