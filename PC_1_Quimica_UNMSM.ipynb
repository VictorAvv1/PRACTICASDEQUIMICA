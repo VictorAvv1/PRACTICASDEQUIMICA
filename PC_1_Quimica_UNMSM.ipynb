{
  "nbformat": 4,
  "nbformat_minor": 0,
  "metadata": {
    "colab": {
      "provenance": [],
      "include_colab_link": true
    },
    "kernelspec": {
      "name": "python3",
      "display_name": "Python 3"
    },
    "language_info": {
      "name": "python"
    },
    "widgets": {
      "application/vnd.jupyter.widget-state+json": {
        "d4691835f4474884829213796343340f": {
          "model_module": "faerun-notebook",
          "model_name": "SmilesDrawerModel",
          "model_module_version": "^0.1.5",
          "state": {
            "_dom_classes": [],
            "_model_module": "faerun-notebook",
            "_model_module_version": "^0.1.5",
            "_model_name": "SmilesDrawerModel",
            "_view_count": null,
            "_view_module": "faerun-notebook",
            "_view_module_version": "^0.1.5",
            "_view_name": "SmilesDrawerView",
            "background": "#1e1e1e",
            "border": true,
            "layout": "IPY_MODEL_35b7ce94b6e84d4c985918e50984dcd7",
            "options": {
              "scale": 1.25
            },
            "output": "svg",
            "theme": "dark",
            "value": [
              [
                "Rxn",
                "C(C1C(C(C(C(O1)O)O)O)O)O.O=O>>C(=O)=O.O"
              ]
            ]
          }
        },
        "35b7ce94b6e84d4c985918e50984dcd7": {
          "model_module": "@jupyter-widgets/base",
          "model_name": "LayoutModel",
          "model_module_version": "1.2.0",
          "state": {
            "_model_module": "@jupyter-widgets/base",
            "_model_module_version": "1.2.0",
            "_model_name": "LayoutModel",
            "_view_count": null,
            "_view_module": "@jupyter-widgets/base",
            "_view_module_version": "1.2.0",
            "_view_name": "LayoutView",
            "align_content": null,
            "align_items": null,
            "align_self": null,
            "border": null,
            "bottom": null,
            "display": null,
            "flex": null,
            "flex_flow": null,
            "grid_area": null,
            "grid_auto_columns": null,
            "grid_auto_flow": null,
            "grid_auto_rows": null,
            "grid_column": null,
            "grid_gap": null,
            "grid_row": null,
            "grid_template_areas": null,
            "grid_template_columns": null,
            "grid_template_rows": null,
            "height": null,
            "justify_content": null,
            "justify_items": null,
            "left": null,
            "margin": null,
            "max_height": null,
            "max_width": null,
            "min_height": null,
            "min_width": null,
            "object_fit": null,
            "object_position": null,
            "order": null,
            "overflow": null,
            "overflow_x": null,
            "overflow_y": null,
            "padding": null,
            "right": null,
            "top": null,
            "visibility": null,
            "width": null
          }
        }
      }
    }
  },
  "cells": [
    {
      "cell_type": "markdown",
      "metadata": {
        "id": "view-in-github",
        "colab_type": "text"
      },
      "source": [
        "<a href=\"https://colab.research.google.com/github/VictorAvv1/PRACTICASDEQUIMICA/blob/main/PC_1_Quimica_UNMSM.ipynb\" target=\"_parent\"><img src=\"https://colab.research.google.com/assets/colab-badge.svg\" alt=\"Open In Colab\"/></a>"
      ]
    },
    {
      "cell_type": "markdown",
      "source": [
        "$$\\Large \\textit{UNMSM | Química}$$\n",
        "$$\\large \\textbf{PC Nº1 | Materia y clasificación}$$\n",
        "\n",
        "_Profesor: Jesus Alvarado Huayhuaz_"
      ],
      "metadata": {
        "id": "sDJAjbaQOj4x"
      }
    },
    {
      "cell_type": "markdown",
      "source": [
        "Todas las indicaciones para la presentación de la práctica son explicadas en clase y brindadas en el material de enunciado de preguntas en formato PDF."
      ],
      "metadata": {
        "id": "_DsTzWLoP7Fy"
      }
    },
    {
      "cell_type": "markdown",
      "source": [
        "## Pregunta 1: Sobre el ABC de python (4 puntos)"
      ],
      "metadata": {
        "id": "obD7c2igOD6t"
      }
    },
    {
      "cell_type": "markdown",
      "source": [
        "Durante la semana de revisión del material \"ABC de python\", reflexiona sobre qué conceptos aprendiste con claridad y cuáles consideras los más desafiantes. A continuación resuelve los siguiente ejercicios, puedes ayudarte del material en http://bit.ly/3YKICSZ."
      ],
      "metadata": {
        "id": "emt93S7dL7QH"
      }
    },
    {
      "cell_type": "code",
      "source": [
        "# Imprime la versión de python que usas y las palabras reservadas de python para esa versión."
      ],
      "metadata": {
        "id": "6mJvqMN0LTU8"
      },
      "execution_count": null,
      "outputs": []
    },
    {
      "cell_type": "code",
      "source": [
        "import sys\n",
        "import keyword\n",
        "\n",
        "print(\"Versión de Python:\", sys.version)\n",
        "print(\"Palabras reservadas de Python:\", keyword.kwlist)"
      ],
      "metadata": {
        "id": "X5JrELvqMR7X"
      },
      "execution_count": null,
      "outputs": []
    },
    {
      "cell_type": "code",
      "source": [
        "# Crea una matriz de 3x3 e imprime la suma de los elementos en su diagonal (traza)."
      ],
      "metadata": {
        "id": "MxDzGypdLTXh"
      },
      "execution_count": null,
      "outputs": []
    },
    {
      "cell_type": "code",
      "source": [
        "matriz = [\n",
        "    [1, 2, 3],\n",
        "    [4, 5, 6],\n",
        "    [7, 8, 9]\n",
        "]\n",
        "\n",
        "suma_diagonal = 0\n",
        "for i in range(len(matriz)):\n",
        "    suma_diagonal += matriz[i][i]\n",
        "\n",
        "print(\"La suma de los elementos en la diagonal es:\", suma_diagonal)"
      ],
      "metadata": {
        "id": "c4L5hyGyMaZ3"
      },
      "execution_count": null,
      "outputs": []
    },
    {
      "cell_type": "code",
      "source": [
        "# Guarda como variable la masa atómica de los elementos C, H y O, e imprime la masa molecular del etanol."
      ],
      "metadata": {
        "id": "MyhNX7JmLTSe"
      },
      "execution_count": null,
      "outputs": []
    },
    {
      "cell_type": "code",
      "source": [
        "masa_C = 12.01\n",
        "masa_H = 1.008\n",
        "masa_O = 16.00\n",
        "\n",
        "masa_molecular = (2 * masa_C) + (6 * masa_H) + masa_O\n",
        "\n",
        "# Imprimir la masa molecular del etanol\n",
        "print(\"La masa molecular del etanol (C2H6O) es:\", masa_molecular)"
      ],
      "metadata": {
        "id": "xeAX0-3FMmaP"
      },
      "execution_count": null,
      "outputs": []
    },
    {
      "cell_type": "code",
      "source": [
        "# Busca la temperatura de fusión en Celsius de 5 metales y guárdalos en una lista. Imprime las temperaturas en Kelvin"
      ],
      "metadata": {
        "id": "NCOnJ0FwgLLc"
      },
      "execution_count": null,
      "outputs": []
    },
    {
      "cell_type": "code",
      "source": [
        "temperaturas_celsius = []\n",
        "\n",
        "temperaturas_celsius.append(1538)  # Hierro (Fe)\n",
        "temperaturas_celsius.append(1083)  # Cobre (Cu)\n",
        "temperaturas_celsius.append(660)   # Plomo (Pb)\n",
        "temperaturas_celsius.append(327)   # Zinc (Zn)\n",
        "temperaturas_celsius.append(1535)  # Aluminio (Al)\n",
        "\n",
        "temperaturas_kelvin = [temperatura + 273.15 for temperatura in temperaturas_celsius]\n",
        "print(\"Temperaturas en Kelvin:\", temperaturas_kelvin)"
      ],
      "metadata": {
        "id": "4aPd7WvwMtod"
      },
      "execution_count": null,
      "outputs": []
    },
    {
      "cell_type": "markdown",
      "source": [
        "## Pregunta 2: Operaciones (4 puntos)"
      ],
      "metadata": {
        "id": "epzOadagLfPi"
      }
    },
    {
      "cell_type": "markdown",
      "source": [
        "Escribe un programa que lea repetidamente elementos químicos en español hasta que el usuario introduzca “fin”. Una vez se haya introducido “fin”, muestra por pantalla (o sea imprime) el total de elementos ingresados. Si el usuario introduce cualquier otra cosa que no sea un elemento químico, detecta su fallo usando try y except, muestra un mensaje de error y pasa al siguiente elemento."
      ],
      "metadata": {
        "id": "MbAEOGPsjOWZ"
      }
    },
    {
      "cell_type": "code",
      "source": [
        "elementos_quimicos = []\n",
        "while True:\n",
        "    elemento = input(\"Introduce un elemento químico en español (o 'fin' para terminar): \")\n",
        "    if elemento.lower() == \"fin\":\n",
        "        break\n",
        "    try:\n",
        "        elementos_validos = [\"hidrogeno\", \"helio\", \"litio\", \"berilio\", \"boro\", \"carbono\"]\n",
        "        if elemento.lower() not in elementos_validos:\n",
        "            raise ValueError(\"Elemento químico inválido\")\n",
        "        elementos_quimicos.append(elemento)\n",
        "    except ValueError as error:\n",
        "        print(\"Error:\", str(error))\n",
        "\n",
        "print(\"Total de elementos ingresados:\", len(elementos_quimicos))"
      ],
      "metadata": {
        "id": "gJGX0p5QLetj"
      },
      "execution_count": null,
      "outputs": []
    },
    {
      "cell_type": "markdown",
      "source": [
        "# Pregunta 3: Conservación de la masa (4 puntos)"
      ],
      "metadata": {
        "id": "8gxSHpD3LZsh"
      }
    },
    {
      "cell_type": "markdown",
      "source": [
        "### Código necesario para generar la imagen"
      ],
      "metadata": {
        "id": "mMV9c3hDl7KL"
      }
    },
    {
      "cell_type": "code",
      "source": [
        "!pip install faerun-notebook==0.1.5b0\n",
        "\n",
        "import ipywidgets as widgets\n",
        "from faerun_notebook import SmilesDrawer\n",
        "from google.colab import output\n",
        "output.enable_custom_widget_manager()"
      ],
      "metadata": {
        "id": "JgF8Ohtbky65"
      },
      "execution_count": null,
      "outputs": []
    },
    {
      "cell_type": "markdown",
      "source": [
        "### Reacción química"
      ],
      "metadata": {
        "id": "5sLC10D_oSrV"
      }
    },
    {
      "cell_type": "markdown",
      "source": [
        "Demuestra cómo se cumple la conservación de la masa en la siguiente reacción química. Sugerencia: hacer un balance estequiométrico y luego emplear la masa molecular de reactivos y productos."
      ],
      "metadata": {
        "id": "OVRhAzaVmD86"
      }
    },
    {
      "cell_type": "code",
      "source": [
        "SmilesDrawer(value=[(\"Rxn\", \"C(C1C(C(C(C(O1)O)O)O)O)O.O=O>>C(=O)=O.O\")], theme='dark', background=\"#1e1e1e\", options={'scale': 1.25})"
      ],
      "metadata": {
        "colab": {
          "base_uri": "https://localhost:8080/",
          "height": 289,
          "referenced_widgets": [
            "d4691835f4474884829213796343340f",
            "35b7ce94b6e84d4c985918e50984dcd7"
          ]
        },
        "id": "CC0mAXWmnYyN",
        "outputId": "fb9a2a33-11fa-47cd-bffe-ce9c285db1d8"
      },
      "execution_count": null,
      "outputs": [
        {
          "output_type": "display_data",
          "data": {
            "text/plain": [
              "SmilesDrawer(background='#1e1e1e', options={'scale': 1.25}, theme='dark', value=[('Rxn', 'C(C1C(C(C(C(O1)O)O)O…"
            ],
            "application/vnd.jupyter.widget-view+json": {
              "version_major": 2,
              "version_minor": 0,
              "model_id": "d4691835f4474884829213796343340f"
            }
          },
          "metadata": {
            "application/vnd.jupyter.widget-view+json": {
              "colab": {
                "custom_widget_manager": {
                  "url": "https://ssl.gstatic.com/colaboratory-static/widgets/colab-cdn-widget-manager/b3e629b1971e1542/manager.min.js"
                }
              }
            }
          }
        }
      ]
    },
    {
      "cell_type": "code",
      "source": [
        "!pip install faerun-notebook==0.1.5b0\n",
        "\n",
        "import ipywidgets as widgets\n",
        "from faerun_notebook import SmilesDrawer\n",
        "from google.colab import output\n",
        "import re\n",
        "\n",
        "output.enable_custom_widget_manager()\n",
        "\n",
        "# Tabla periódica de elementos químicos con masas molares\n",
        "tabla_periodica = {\n",
        "    \"H\": 1.00784,\n",
        "    \"C\": 12.011,\n",
        "    \"O\": 15.999,\n",
        "    # Agrega más elementos aquí según sea necesario\n",
        "}\n",
        "\n",
        "formula_reactivo = \"C6H12O6\"\n",
        "formula_producto = \"2CO2 + 3H2O\"\n",
        "\n",
        "def calcular_masa_molar(elemento):\n",
        "    if elemento in tabla_periodica:\n",
        "        return tabla_periodica[elemento]\n",
        "    else:\n",
        "        # Si el elemento no se encuentra en la tabla periódica, puedes manejarlo como desees\n",
        "        # Por ejemplo, puedes lanzar una excepción o devolver un valor predeterminado\n",
        "        return None\n",
        "\n",
        "masa_reactivo = 0\n",
        "for elemento in formula_reactivo.split():\n",
        "    elemento_info = elemento.strip(\"0123456789\")\n",
        "    elemento_cantidad = int(elemento.strip(elemento_info)) if elemento.strip(elemento_info) else 1\n",
        "    masa_elemento = calcular_masa_molar(elemento_info)\n",
        "    if masa_elemento is None:\n",
        "        print(f\"No se encontró la masa molar para el elemento {elemento_info}\")\n",
        "        continue\n",
        "    masa_reactivo += elemento_cantidad * masa_elemento\n",
        "\n",
        "masa_producto = 0\n",
        "for elemento in formula_producto.split(\"+\"):\n",
        "    elemento_info = elemento.strip()\n",
        "    elemento_cantidad = int(re.findall(r'\\d+', elemento_info)[0]) if re.findall(r'\\d+', elemento_info) else 1\n",
        "    elemento_formula = re.sub(r'\\d+', '', elemento_info).strip()\n",
        "    masa_elemento = calcular_masa_molar(elemento_formula)\n",
        "    if masa_elemento is None:\n",
        "        print(f\"No se encontró la masa molar para el elemento {elemento_formula}\")\n",
        "        continue\n",
        "    masa_producto += elemento_cantidad * masa_elemento\n",
        "\n",
        "if masa_reactivo == masa_producto:\n",
        "    print(\"La conservación de la masa se cumple en la reacción química.\")\n",
        "else:\n",
        "    print(\"La conservación de la masa no se cumple en la reacción química.\")\n",
        "\n",
        "# Generar la imagen de la estructura química utilizando el código proporcionado\n",
        "SmilesDrawer(value=[(\"Rxn\", \"C(C1C(C(C(C(O1)O)O)O)O)O.O=O>>C(=O)=O.O\")], theme='dark', background=\"#1e1e1e\", options={'scale': 1.25})"
      ],
      "metadata": {
        "id": "oBpR7GGyOu9i"
      },
      "execution_count": null,
      "outputs": []
    },
    {
      "cell_type": "markdown",
      "source": [
        "## Pregunta 4: Notación científica (4 puntos)"
      ],
      "metadata": {
        "id": "Rh-nAUiKhJNB"
      }
    },
    {
      "cell_type": "markdown",
      "source": [
        "Imprime las siguientes operaciones según la notación científica:\n",
        "\n",
        "(1) $1.321 \\times 10^{-4} + 8.5 \\times 10^{-2}$\n",
        "\n",
        "(2) $1.71 \\times 10^{3} - 2.01 \\times 10^{2}\\$\n",
        "\n",
        "(3) $(7.4 \\times 10^5)(7.2 \\times 10^4)$\n",
        "\n",
        "(4) $(7.4 \\times 10^5)/(7.2 \\times 10^4)$"
      ],
      "metadata": {
        "id": "NIkI45Xdqqnt"
      }
    },
    {
      "cell_type": "code",
      "source": [
        "# Operación 1: 1.321×10^-4 + 8.5×10^-2\n",
        "resultado_1 = 1.321e-4 + 8.5e-2\n",
        "print(resultado_1)\n",
        "\n",
        "# Operación 2: 1.71×10^3 - 2.01×10^2\n",
        "resultado_2 = 1.71e3 - 2.01e2\n",
        "print(resultado_2)\n",
        "\n",
        "# Operación 3: (7.4×10^5)(7.2×10^4)\n",
        "resultado_3 = (7.4e5) * (7.2e4)\n",
        "print(resultado_3)\n",
        "\n",
        "# Operación 4: (7.4×10^5)/(7.2×10^4)\n",
        "resultado_4 = (7.4e5) / (7.2e4)\n",
        "print(resultado_4)"
      ],
      "metadata": {
        "id": "iy6AwhRERZZm"
      },
      "execution_count": null,
      "outputs": []
    },
    {
      "cell_type": "markdown",
      "source": [
        "## Pregunta 5: Método científico (4 puntos)"
      ],
      "metadata": {
        "id": "CuzCcXJghR14"
      }
    },
    {
      "cell_type": "markdown",
      "source": [
        "Artículo: https://bit.ly/3surZ1W\n",
        "Leer el siguiente artículo y explica cómo es aplicado el método científico. Emplea como máximo 300 palabras."
      ],
      "metadata": {
        "id": "WngRSR-Rhmx1"
      }
    },
    {
      "cell_type": "markdown",
      "source": [
        "  **APLICACIÓN DEL MÉTODO CIENTÍFICO EN EL ESTUDIO DE LK-99**\n",
        "\n",
        "El artículo revela el proceso de aplicación del método científico para investigar las propiedades del material LK-99, inicialmente propuesto como un superconductor a temperatura ambiente. El método científico se despliega de la siguiente manera:\n",
        "\n",
        "**1.\tHipótesis Inicial:**\n",
        "\n",
        "•\tEl equipo surcoreano propuso que LK-99 era un superconductor a temperatura ambiente, desafiando las expectativas tradicionales.\n",
        "\n",
        "**2.\tExperimentación y Observación:**\n",
        "\n",
        "•\tEl equipo utilizó propiedades como la levitación sobre un imán y caídas abruptas en la resistividad eléctrica como evidencia de la superconductividad de LK-99.\n",
        "\n",
        "•\tOtros equipos, como los de Peking University y la Chinese Academy of Sciences, realizaron experimentos adicionales para replicar los resultados.\n",
        "\n",
        "**3.\tContrastación de Resultados:**\n",
        "\n",
        "•\tDiferentes equipos a nivel internacional realizaron múltiples intentos de replicación, pero no encontraron evidencia concluyente de superconductividad a temperatura ambiente en LK-99.\n",
        "\n",
        "**4.\tAnálisis de Datos:**\n",
        "\n",
        "•\tSe llevaron a cabo estudios teóricos y experimentales para comprender la estructura y comportamiento de LK-99.\n",
        "\n",
        "•\tLa evidencia acumulada sugiere que las impurezas, especialmente el sulfuro de cobre (Cu2S), en LK-99 son responsables de comportamientos superconductores simulados.\n",
        "\n",
        "**5. Revisión de la Hipótesis:**\n",
        "\n",
        "•\tA medida que se acumulaba evidencia en contra de la superconductividad de LK-99, la comunidad científica revisó la hipótesis inicial y consideró explicaciones alternativas, como el ferromagnetismo.\n",
        "\n",
        "**6.\tConclusiones Definitivas:**\n",
        "\n",
        "•\tLa investigación concluyó que LK-99 no es un superconductor a temperatura ambiente, sino un aislante con impurezas que generan comportamientos superconductores simulados.\n",
        "\n",
        "**7.\tExigencia de Verificación:**\n",
        "\n",
        "•\tSe destaca la importancia de que el equipo surcoreano comparta muestras para una verificación independiente y concluyente.\n",
        "Este proceso evidencia el rigor del método científico, que implica la formulación de hipótesis, experimentación, análisis de datos y revisión continua para llegar a conclusiones basadas en evidencia sólida. La comunidad científica, al poner a prueba la hipótesis inicial, contribuye al avance del conocimiento y la comprensión de los materiales estudiados.\n"
      ],
      "metadata": {
        "id": "KJnPkns1SvfK"
      }
    }
  ]
}